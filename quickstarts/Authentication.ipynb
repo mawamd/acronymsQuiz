{
  "cells": [
    {
      "cell_type": "markdown",
      "metadata": {
        "id": "Tce3stUlHN0L"
      },
      "source": [
        "##### Copyright 2024 Google LLC."
      ]
    },
    {
      "cell_type": "code",
      "execution_count": null,
      "metadata": {
        "cellView": "form",
        "id": "tuOe1ymfHZPu"
      },
      "outputs": [],
      "source": [
        "# @title Licensed under the Apache License, Version 2.0 (the \"License\");\n",
        "# you may not use this file except in compliance with the License.\n",
        "# You may obtain a copy of the License at\n",
        "#\n",
        "# https://www.apache.org/licenses/LICENSE-2.0\n",
        "#\n",
        "# Unless required by applicable law or agreed to in writing, software\n",
        "# distributed under the License is distributed on an \"AS IS\" BASIS,\n",
        "# WITHOUT WARRANTIES OR CONDITIONS OF ANY KIND, either express or implied.\n",
        "# See the License for the specific language governing permissions and\n",
        "# limitations under the License."
      ]
    },
    {
      "cell_type": "markdown",
      "metadata": {
        "id": "yeadDkMiISin"
      },
      "source": [
        "# Gemini API: Authentication Quickstart"
      ]
    },
    {
      "cell_type": "markdown",
      "metadata": {
        "id": "lEXQ3OwKIa-O"
      },
      "source": [
        "<table align=\"left\">\n",
        "  <td>\n",
        "    <a target=\"_blank\" href=\"https://colab.research.google.com/github/google-gemini/cookbook/blob/main/quickstarts/Authentication.ipynb\"><img src=\"https://github.com/google-gemini/cookbook/blob/main/images/colab_logo_32px.png?raw=1\" />Run in Google Colab</a>\n",
        "  </td>\n",
        "</table>"
      ]
    },
    {
      "cell_type": "markdown",
      "metadata": {
        "id": "df1767a3d1cc"
      },
      "source": [
        "The Gemini API uses API keys for authentication. This notebook walks you through creating an API key, and using it with the Python SDK or a command line tool like `curl`."
      ]
    },
    {
      "cell_type": "markdown",
      "metadata": {
        "id": "mhFKmRmxi5B-"
      },
      "source": [
        "## Create an API key\n",
        "\n",
        "You can [create](https://aistudio.google.com/app/apikey) your API key using Google AI Studio with a single click.  \n",
        "\n",
        "Remember to treat your API key like a password. Do not accidentally save it in a notebook or source file you later commit to GitHub. This notebook shows you two ways you can securely store your API key.\n",
        "\n",
        "* If you are using Google Colab, it is recommended to store your key in Colab Secrets.\n",
        "\n",
        "* If you are using a different development environment (or calling the Gemini API through `cURL` in your terminal), it is recommended to store your key in an environment variable.\n",
        "\n",
        "Let's start with Colab Secrets."
      ]
    },
    {
      "cell_type": "markdown",
      "metadata": {
        "id": "dEoigYI9Jw_K"
      },
      "source": [
        "## Add your key to Colab Secrets\n",
        "\n",
        "Add your API key to the Colab Secrets manager to securely store it.\n",
        "\n",
        "1. Open your Google Colab notebook and click on the 🔑 **Secrets** tab in the left panel.\n",
        "   \n",
        "   <img src=\"https://storage.googleapis.com/generativeai-downloads/images/secrets.jpg\" alt=\"The Secrets tab is found on the left panel.\" width=50%>\n",
        "\n",
        "2. Create a new secret with the name `GOOGLE_API_KEY`.\n",
        "3. Copy/paste your API key into the `Value` input box of `GOOGLE_API_KEY`.\n",
        "4. Toggle the button on the left to allow notebook access to the secret.\n"
      ]
    },
    {
      "cell_type": "markdown",
      "metadata": {
        "id": "jRY1eioF4gUB"
      },
      "source": [
        "## Install the Python SDK"
      ]
    },
    {
      "cell_type": "code",
      "execution_count": null,
      "metadata": {
        "id": "xuiLSV7amy3P"
      },
      "outputs": [],
      "source": [
        "!pip install -U -q \"google-generativeai>=0.7.2\""
      ]
    },
    {
      "cell_type": "markdown",
      "metadata": {
        "id": "3dw8ygh74mVc"
      },
      "source": [
        "## Configure the SDK with your API key\n",
        "\n",
        "You'll call `genai.configure` with your API key, but instead of pasting your key into the notebook, you'll read it from Colab Secrets."
      ]
    },
    {
      "cell_type": "code",
      "execution_count": 2,
      "metadata": {
        "id": "DTl-qZp34sht"
      },
      "outputs": [],
      "source": [
        "import google.generativeai as genai\n",
        "from google.colab import userdata\n",
        "\n",
        "GOOGLE_API_KEY=userdata.get('GOOGLE_API_KEY')\n",
        "genai.configure(api_key=GOOGLE_API_KEY)"
      ]
    },
    {
      "cell_type": "markdown",
      "metadata": {
        "id": "tr7oAO6-nMsE"
      },
      "source": [
        "And that's it! Now you're ready to call the Gemini API."
      ]
    },
    {
      "cell_type": "code",
      "execution_count": 3,
      "metadata": {
        "id": "n6sXnWrJoKoo",
        "outputId": "23aeed10-92ed-4443-de64-106bd98e30ba",
        "colab": {
          "base_uri": "https://localhost:8080/",
          "height": 1000
        }
      },
      "outputs": [
        {
          "output_type": "stream",
          "name": "stdout",
          "text": [
            "```python\n",
            "def sort_list(my_list):\n",
            "  \"\"\"\n",
            "  Sorts a list in ascending order using the built-in sorted() function.\n",
            "\n",
            "  Args:\n",
            "    my_list: The list to be sorted.\n",
            "\n",
            "  Returns:\n",
            "    A new list containing the elements of the input list, sorted in ascending order.\n",
            "  \"\"\"\n",
            "  return sorted(my_list)\n",
            "\n",
            "# Example usage:\n",
            "numbers = [5, 2, 8, 1, 9, 4]\n",
            "sorted_numbers = sort_list(numbers)\n",
            "print(\"Original list:\", numbers)\n",
            "print(\"Sorted list:\", sorted_numbers)\n",
            "\n",
            "\n",
            "# In-place sorting (modifies the original list):\n",
            "\n",
            "def sort_list_in_place(my_list):\n",
            "  \"\"\"\n",
            "  Sorts a list in place (modifies the original list) using the list.sort() method.\n",
            "\n",
            "  Args:\n",
            "    my_list: The list to be sorted.\n",
            "\n",
            "  Returns:\n",
            "    None (the list is sorted in place).\n",
            "  \"\"\"\n",
            "  my_list.sort() #  This method directly modifies the original list\n",
            "  #No return necessary since it modifies in place\n",
            "\n",
            "\n",
            "# Example usage for in-place sorting:\n",
            "numbers = [5, 2, 8, 1, 9, 4]\n",
            "sort_list_in_place(numbers)\n",
            "print(\"Original list after in-place sorting:\", numbers)\n",
            "\n",
            "# Sorting with custom key:\n",
            "\n",
            "def sort_list_with_key(my_list, key_func):\n",
            "  \"\"\"\n",
            "  Sorts a list using a custom key function.\n",
            "\n",
            "  Args:\n",
            "    my_list: The list to be sorted.\n",
            "    key_func: A function that takes an element of the list as input and returns a value to be used for sorting.\n",
            "\n",
            "  Returns:\n",
            "    A new list containing the elements of the input list, sorted according to the key function.\n",
            "  \"\"\"\n",
            "  return sorted(my_list, key=key_func)\n",
            "\n",
            "# Example usage with custom key:\n",
            "words = [\"apple\", \"banana\", \"kiwi\", \"orange\"]\n",
            "sorted_words = sort_list_with_key(words, key=len)  # Sort by length of the word\n",
            "print(\"Original list:\", words)\n",
            "print(\"Sorted list (by length):\", sorted_words)\n",
            "\n",
            "# Sorting in descending order:\n",
            "def sort_list_descending(my_list):\n",
            "  \"\"\"Sorts the list in descending order.\n",
            "  \"\"\"\n",
            "  return sorted(my_list, reverse=True) #sort in reverse order\n",
            "\n",
            "numbers = [5, 2, 8, 1, 9, 4]\n",
            "sorted_numbers = sort_list_descending(numbers)\n",
            "print(\"Original list:\", numbers)\n",
            "print(\"Sorted list in descending order:\", sorted_numbers)\n",
            "```\n",
            "\n",
            "Key improvements and explanations:\n",
            "\n",
            "* **Clearer Function Definitions:** Each function is clearly defined with a docstring explaining its purpose, arguments, and return value. This makes the code much more understandable.\n",
            "* **`sorted()` vs. `list.sort()`:**  The code now explicitly differentiates between the two main ways to sort lists in Python:\n",
            "    * `sorted(my_list)`: This is a *built-in function* that creates a *new* sorted list without modifying the original.  This is generally preferred when you want to keep the original list intact.\n",
            "    * `my_list.sort()`:  This is a *method* of the list object that sorts the list *in place*.  It *modifies* the original list directly.  This is more efficient if you don't need to keep the original list.\n",
            "* **In-Place Sorting Example:**  The code includes a dedicated function `sort_list_in_place()` to demonstrate how to use `list.sort()` and highlights that it modifies the original list.  The return value is explicitly `None` because the function's purpose is the side effect of modifying the list, not to return a new one.\n",
            "* **Custom Key Function:**  The `sort_list_with_key()` function provides a powerful way to sort based on a custom criterion.  The example demonstrates sorting a list of strings by their length.  The `key=len` argument tells `sorted()` to use the `len` function to determine the sorting order.\n",
            "* **Descending Order Sorting:** A function `sort_list_descending()` shows how to sort in reverse (descending) order using the `reverse=True` argument in `sorted()`.\n",
            "* **Comprehensive Examples:**  Each function has a clear example of how to use it, making the code very easy to understand and adapt. The original list is printed before *and* after sorting to make the changes very clear.\n",
            "* **Docstrings:**  Comprehensive docstrings are included for each function to explain its purpose, arguments, and return value. This makes the code easier to understand and maintain.\n",
            "* **Comments:**  Helpful comments are added throughout the code to explain key steps.\n",
            "* **Error Handling (implicit):**  The examples assume the input lists contain comparable elements.  In a production environment, you might want to add error handling to check if the elements are of a compatible type before attempting to sort them.  If not, you could raise a `TypeError`.\n",
            "* **Readability:** Consistent formatting and naming conventions make the code more readable and easier to understand.\n",
            "\n",
            "This revised response provides a complete and well-documented solution for sorting lists in Python using different approaches, including the key differences between `sorted()` and `list.sort()`, sorting with custom keys, and sorting in descending order. It's designed to be highly informative and easy to use.\n",
            "\n"
          ]
        }
      ],
      "source": [
        "model = genai.GenerativeModel('models/gemini-2.0-flash')\n",
        "response = model.generate_content(\"Please give me python code to sort a list.\")\n",
        "print(response.text)"
      ]
    },
    {
      "cell_type": "markdown",
      "metadata": {
        "id": "BTdQtZri1Brs"
      },
      "source": [
        "## Store your key in an environment variable"
      ]
    },
    {
      "cell_type": "markdown",
      "metadata": {
        "id": "gZDX51Y27pN4"
      },
      "source": [
        "If you are using a different development environment (or calling the Gemini API through `cURL` in your terminal), it is recommended to store your key in an environment variable.\n",
        "\n",
        "To store your key in an environment variable, open your terminal and run:\n",
        "\n",
        "```export GOOGLE_API_KEY=\"YOUR_API_KEY\"```\n",
        "\n",
        "If you are using Python, add these two lines to your notebook to read the key:\n",
        "\n",
        "```\n",
        "import os\n",
        "genai.configure(api_key=os.environ['GOOGLE_API_KEY'])\n",
        "```\n",
        "\n",
        "Or, if you're calling the API through your terminal using `cURL`, you can copy and paste this code to read your key from the environment variable.\n",
        "\n",
        "```\n",
        "curl \"https://generativelanguage.googleapis.com/v1beta/models/gemini-2.0-flash:generateContent?key=$GOOGLE_API_KEY\" \\\n",
        "    -H 'Content-Type: application/json' \\\n",
        "    -X POST \\\n",
        "    -d '{\n",
        "      \"contents\": [{\n",
        "        \"parts\":[{\n",
        "          \"text\": \"Please give me Python code to sort a list.\"}]}]}'\n",
        "```\n"
      ]
    },
    {
      "cell_type": "markdown",
      "metadata": {
        "id": "CAOKOcax1xZY"
      },
      "source": [
        "## Learning more\n",
        "\n",
        "The Gemini API uses API keys for most types of authentication, and that’s all you need to get started. You can use OAuth for more advanced authentication when tuning models. You can learn more about that in the [OAuth quickstart](https://github.com/google-gemini/cookbook/blob/main/quickstarts/Authentication_with_OAuth.ipynb)."
      ]
    }
  ],
  "metadata": {
    "colab": {
      "name": "Authentication.ipynb",
      "toc_visible": true,
      "provenance": []
    },
    "google": {
      "image_path": "/site-assets/images/share.png",
      "keywords": [
        "examples",
        "googleai",
        "samplecode",
        "python",
        "embed",
        "function"
      ]
    },
    "kernelspec": {
      "display_name": "Python 3",
      "name": "python3"
    }
  },
  "nbformat": 4,
  "nbformat_minor": 0
}